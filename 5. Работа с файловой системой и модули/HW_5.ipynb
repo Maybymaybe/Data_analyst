{
 "cells": [
  {
   "cell_type": "markdown",
   "metadata": {},
   "source": [
    "## 1 Задание\n",
    "Переведите содержимое файла purchase_log.txt в словарь purchases вида:\n",
    "{‘1840e0b9d4’: ‘Продукты’, …}\n",
    "\n",
    "Учтите условия на данные:\n",
    "\n",
    "    содержимое purchase_log.txt помещается в оперативную память компьютера\n",
    "    содержимое visit_log.csv - нет; используйте только построчную обработку этого файла"
   ]
  },
  {
   "cell_type": "code",
   "execution_count": 100,
   "metadata": {},
   "outputs": [
    {
     "name": "stdout",
     "output_type": "stream",
     "text": [
      "0 {\"user_id\": \"1840e0b9d4\", \"category\": \"Продукты\"}\n",
      "\n",
      "1 {\"user_id\": \"4e4f90fcfb\", \"category\": \"Электроника\"}\n",
      "\n",
      "2 {\"user_id\": \"afea8d72fc\", \"category\": \"Электроника\"}\n",
      "\n",
      "3 {\"user_id\": \"373a6055fe\", \"category\": \"Бытовая техника\"}\n",
      "\n",
      "4 {\"user_id\": \"9b2ab046f3\", \"category\": \"Электроника\"}\n",
      "\n",
      "5 {\"user_id\": \"9f39d307c3\", \"category\": \"Электроника\"}\n",
      "\n",
      "6 {\"user_id\": \"44edeffc91\", \"category\": \"Продукты\"}\n",
      "\n"
     ]
    }
   ],
   "source": [
    "f = open(r'C:\\Users\\kulik\\Documents\\Lena\\Digital\\Python\\Data_analyst\\uploaded files\\for 5HW_purchase_log.txt','r', encoding = 'utf-8')#открываем файл как чтение, в папке первое r помогает избежать ошибок со слэшами при открытии через виндовс\n",
    "f.readline()#читаем первую строку файла\n",
    "for i, line in enumerate(f):# выводим первые строки через цикл и функцию enumerate (индексирует строки)\n",
    "    print(i, line)\n",
    "    if i > 5:# выходим из цикла после прочтения 5 строк\n",
    "        break"
   ]
  },
  {
   "cell_type": "code",
   "execution_count": 101,
   "metadata": {},
   "outputs": [],
   "source": [
    "import json #импортируем пакет Json\n",
    "with open (r'C:\\Users\\kulik\\Documents\\Lena\\Digital\\Python\\Data_analyst\\uploaded files\\for 5HW_purchase_log.txt', encoding = 'utf-8')#открываем файл как чтение, в папке первое r помогает избежать ошибок со слэшами при открытии через виндовс as f:\n",
    "    content = f.readlines()#записываем содержимое всего файла в content\n",
    "    purchase = {}\n",
    "    users = []\n",
    "    category = []\n",
    "    for line in content:\n",
    "        dictionary = json.loads(line)#переводим содержимое в словарь\n",
    "        users.append(list(dictionary.values())[0])#добавляем users id в список юзеров\n",
    "        category.append (list(dictionary.values())[1])#добавляем категории id в список категорий\n",
    "    purchase = dict(zip(users, category))#объединяем юзеров и категории и создаем 1 справочник\n",
    "               "
   ]
  },
  {
   "cell_type": "markdown",
   "metadata": {},
   "source": [
    "## 2 Задание\n",
    "Для каждого user_id в файле visit_log.csv определите третий столбец с категорией покупки (если покупка была, сам файл visit_log.csv изменять не надо). Запишите в файл funnel.csv визиты из файла visit_log.csv, в которых были покупки с указанием категории.\n",
    "Учтите условия на данные:\n",
    "содержимое purchase_log.txt помещается в оперативную память компьютера\n",
    "содержимое visit_log.csv - нет; используйте только построчную обработку этого файла"
   ]
  },
  {
   "cell_type": "code",
   "execution_count": 2,
   "metadata": {},
   "outputs": [
    {
     "name": "stdout",
     "output_type": "stream",
     "text": [
      "0 6450655ae8,other\n",
      "\n",
      "1 b4ea53e670,other\n",
      "\n",
      "2 0e37347152,other\n",
      "\n",
      "3 96064ae9e0,other\n",
      "\n",
      "4 e1bd168161,context\n",
      "\n",
      "5 71bcf169b4,other\n",
      "\n",
      "6 e0aee73c5d,other\n",
      "\n"
     ]
    }
   ],
   "source": [
    "f = open(r'C:\\Users\\kulik\\Documents\\Lena\\Digital\\Python\\Data_analyst\\uploaded files\\for 5HW_visit_log.csv','r', encoding = 'utf-8')#открываем файл как чтение, в папке первое r помогает избежать ошибок со слэшами при открытии через виндовс\n",
    "f.readline()#читаем первую строку файла\n",
    "for i, line in enumerate(f):# выводим первые строки через цикл и функцию enumerate (индексирует строки)\n",
    "    print(i, line)\n",
    "    if i > 5:# выходим из цикла после прочтения 5 строк\n",
    "        break"
   ]
  },
  {
   "cell_type": "code",
   "execution_count": 99,
   "metadata": {},
   "outputs": [],
   "source": [
    "with open (r'C:\\Users\\kulik\\Documents\\Lena\\Digital\\Python\\Data_analyst\\uploaded files\\for 5HW_visit_log.csv', encoding = 'utf-8') as visit_log:\n",
    "    with open ('funnel.csv', 'w') as f2:#открываем funnel.csv на запись\n",
    "        for line in visit_log:#построчный цикл\n",
    "            line = line.strip().split(',')# делим строку на список элементов, разделеных запятой\n",
    "            if line[0] in purchase:#если юзер из visit_log в списке юзеров из в списка заказов\n",
    "                final_list = line#то в итоговый список добавляем данные из visit_log(user_id и source)\n",
    "                final_list.append(purchase.get(line[0]))#то добавляем к финальному списку значение из словаря Purchase (категория) по юзеру из visit log \n",
    "                f2.write(str(final_list) + '\\n')#записываем строчку в файл funnel.csv + перенос строки\n",
    "            \n",
    "           \n",
    "           "
   ]
  }
 ],
 "metadata": {
  "kernelspec": {
   "display_name": "Python 3",
   "language": "python",
   "name": "python3"
  },
  "language_info": {
   "codemirror_mode": {
    "name": "ipython",
    "version": 3
   },
   "file_extension": ".py",
   "mimetype": "text/x-python",
   "name": "python",
   "nbconvert_exporter": "python",
   "pygments_lexer": "ipython3",
   "version": "3.8.5"
  }
 },
 "nbformat": 4,
 "nbformat_minor": 4
}
