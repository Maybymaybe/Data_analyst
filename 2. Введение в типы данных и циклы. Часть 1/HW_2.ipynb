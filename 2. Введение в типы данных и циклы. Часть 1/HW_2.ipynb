{
 "cells": [
  {
   "cell_type": "markdown",
   "metadata": {},
   "source": [
    "## Домашнее задание к лекции \"Введение в типы данных и циклы. Часть 1\"\n",
    "\n",
    "## Задание 1\n",
    "\n",
    "Дана переменная, в которой хранится слово из латинских букв. Напишите код, который выводит на экран:\n",
    "*    среднюю букву, если число букв в слове нечетное;\n",
    "*    две средних буквы, если число букв четное.\n",
    "\n",
    "Примеры работы программы:\n",
    "\n",
    "    word = 'test'\n",
    "    \n",
    "Результат:\n",
    "es\n",
    "\n",
    "    word = 'testing'    \n",
    "Результат:\n",
    "t\n"
   ]
  },
  {
   "cell_type": "code",
   "execution_count": 2,
   "metadata": {},
   "outputs": [
    {
     "name": "stdout",
     "output_type": "stream",
     "text": [
      "es\n"
     ]
    }
   ],
   "source": [
    "word = 'test'\n",
    "if len(word)%2 == 0:\n",
    "    print(\n",
    "        word[int(len(word)/2)-1:int(len(word)/2)+1:1]\n",
    "          )\n",
    "else:\n",
    "    print(word[int(round(len(word)/2,0))-1])"
   ]
  },
  {
   "cell_type": "markdown",
   "metadata": {},
   "source": [
    "## Задание 2\n",
    "Напишите программу, которая последовательно запрашивает у пользователя числа (по одному за раз) и после первого нуля выводит сумму всех ранее введенных чисел.\n",
    "\n",
    "Примеры работы программы:\n",
    "\n",
    "    Введите число: 1\n",
    "    Введите число: 4\n",
    "    Введите число: 6\n",
    "    Введите число: 0\n",
    "    Результат:\n",
    "    11\n",
    "\n",
    "    Введите число:     0\n",
    "    Результат:\n",
    "    0"
   ]
  },
  {
   "cell_type": "code",
   "execution_count": 31,
   "metadata": {},
   "outputs": [
    {
     "name": "stdout",
     "output_type": "stream",
     "text": [
      "Введите число1\n",
      "Введите число4\n",
      "Введите число6\n",
      "Введите число0\n",
      "11\n"
     ]
    }
   ],
   "source": [
    "sum_ = 0\n",
    "x = int(input('Введите число'))\n",
    "\n",
    "while x  != 0:\n",
    "    sum_ += x\n",
    "    x = int(input('Введите число'))\n",
    "    \n",
    "print(sum_)\n",
    "        \n",
    "     "
   ]
  },
  {
   "cell_type": "markdown",
   "metadata": {},
   "source": [
    "## Задание 3\n",
    "\n",
    "Мы делаем MVP dating-сервиса, и у нас есть список парней и девушек.\n",
    "Выдвигаем гипотезу: лучшие рекомендации мы получим, если просто отсортируем имена по алфавиту и познакомим людей с одинаковыми индексами после сортировки! Но мы не будем никого знакомить, если кто-то может остаться без пары:\n",
    "\n",
    "Примеры работы программы:\n",
    "\n",
    "    boys = ['Peter', 'Alex', 'John', 'Arthur', 'Richard']\n",
    "    girls = ['Kate', 'Liza', 'Kira', 'Emma', 'Trisha']\n",
    "\n",
    "    Результат:\n",
    "\n",
    "    Идеальные пары:  \n",
    "    Alex и Emma  \n",
    "    Arthur и Kate  \n",
    "    John и Kira  \n",
    "    Peter и Liza  \n",
    "    Richard и Trisha\n",
    "\n",
    "    boys = ['Peter', 'Alex', 'John', 'Arthur', 'Richard', 'Michael']\n",
    "    girls = ['Kate', 'Liza', 'Kira', 'Emma', 'Trisha']\n",
    "\n",
    "    Результат:\n",
    "    Внимание, кто-то может остаться без пары!\n"
   ]
  },
  {
   "cell_type": "code",
   "execution_count": 35,
   "metadata": {},
   "outputs": [
    {
     "name": "stdout",
     "output_type": "stream",
     "text": [
      "Идеальные пары:\n",
      "Alex и Emma\n",
      "Arthur и Kate\n",
      "John и Kira\n",
      "Peter и Liza\n",
      "Richard и Trisha\n"
     ]
    }
   ],
   "source": [
    "boys = ['Peter', 'Alex', 'John', 'Arthur', 'Richard']\n",
    "girls = ['Kate', 'Liza', 'Kira', 'Emma', 'Trisha']\n",
    "if len(boys) != len(girls):\n",
    "    print('Внимание, кто-то может остаться без пары!')\n",
    "else:\n",
    " boys_and_girls = list(zip(sorted(boys), sorted(girls)))\n",
    "print('Идеальные пары:')\n",
    "for t in boys_and_girls:\n",
    "    print(t[0], 'и', t[1] )"
   ]
  },
  {
   "cell_type": "markdown",
   "metadata": {},
   "source": [
    "## Задание 4\n",
    "\n",
    "У нас есть список, содержащий информацию о среднедневной температуре в Фаренгейтах за произвольный период по странам (структура данных в примере). Необходимо написать код, который рассчитает среднюю температуру за период в Цельсиях(!) для каждой страны.\n",
    "\n",
    "    Пример работы программы:\n",
    "\n",
    "    countries_temperature = [\n",
    "    ['Thailand', [75.2, 77, 78.8, 73.4, 68, 75.2, 77]],\n",
    "    ['Germany', [57.2, 55.4, 59, 59, 53.6]],\n",
    "    ['Russia', [35.6, 37.4, 39.2, 41, 42.8, 39.2, 35.6]],\n",
    "    ['Poland', [50, 50, 53.6, 57.2, 55.4, 55.4]]\n",
    "    ]\n",
    "\n",
    "    Результат:\n",
    "\n",
    "    Средняя температура в странах:\n",
    "    Thailand  -  23.9 С\n",
    "    Germany  -  13.8 С\n",
    "    Russia  -  3.7 С\n",
    "    Poland  -  12.0 С"
   ]
  },
  {
   "cell_type": "code",
   "execution_count": 211,
   "metadata": {},
   "outputs": [
    {
     "name": "stdout",
     "output_type": "stream",
     "text": [
      "Thailand - 23.9 С\n",
      "Germany - 13.8 С\n",
      "Russia - 3.7 С\n",
      "Poland - 12.0 С\n"
     ]
    }
   ],
   "source": [
    "countries_temperature = [\n",
    "['Thailand', [75.2, 77, 78.8, 73.4, 68, 75.2, 77]],\n",
    "['Germany', [57.2, 55.4, 59, 59, 53.6]],\n",
    "['Russia', [35.6, 37.4, 39.2, 41, 42.8, 39.2, 35.6]],\n",
    "['Poland', [50, 50, 53.6, 57.2, 55.4, 55.4]]\n",
    "]\n",
    "\n",
    "for country in countries_temperature:\n",
    "    for t in country[1]:\n",
    "        f_by_country = sum(country[1])\n",
    "        avg_f = f_by_country/len(country[1])\n",
    "        c_by_country = (avg_f - 32) * 5 / 9\n",
    "    print(country[0], '-', round(c_by_country, 1) ,'С')"
   ]
  },
  {
   "cell_type": "markdown",
   "metadata": {},
   "source": [
    "## Задание 5 (необязательное)\n",
    "\n",
    "Дан поток логов по количеству просмотренных страниц для каждого пользователя. Вам необходимо написать алгоритм, который считает среднее значение просмотров на пользователя. Т. е. надо посчитать отношение суммы всех просмотров к количеству уникальных пользователей.\n",
    "\n",
    "    Примеры работы программы:\n",
    "\n",
    "    stream = [\n",
    "    '2018-01-01,user1,3',\n",
    "    '2018-01-07,user1,4',\n",
    "    '2018-03-29,user1,1',\n",
    "    '2018-04-04,user1,13',\n",
    "    '2018-01-05,user2,7',\n",
    "    '2018-06-14,user3,4',\n",
    "    '2018-07-02,user3,10',\n",
    "    '2018-03-21,user4,19',\n",
    "    '2018-03-22,user4,4',\n",
    "    '2018-04-22,user4,8',\n",
    "    '2018-05-03,user4,9',\n",
    "    '2018-05-11,user4,11',\n",
    "    ]\n",
    "\n",
    "    Результат:\n",
    "    Среднее количество просмотров на уникального пользователя: 23.25\n",
    "\n",
    "    stream = [\n",
    "    '2018-01-01,user100,150',\n",
    "    '2018-01-07,user99,205',\n",
    "    '2018-03-29,user1001,81'\n",
    "    ]\n",
    "\n",
    "    Результат:\n",
    "    Среднее количество просмотров на уникального пользователя: 145.33"
   ]
  },
  {
   "cell_type": "code",
   "execution_count": 24,
   "metadata": {},
   "outputs": [
    {
     "name": "stdout",
     "output_type": "stream",
     "text": [
      "Среднее количество просмотров на уникального пользователя: 23.25\n"
     ]
    }
   ],
   "source": [
    "stream = [\n",
    "'2018-01-01,user1,3',\n",
    "'2018-01-07,user1,4',\n",
    "'2018-03-29,user1,1',\n",
    "'2018-04-04,user1,13',\n",
    "'2018-01-05,user2,7',\n",
    "'2018-06-14,user3,4',\n",
    "'2018-07-02,user3,10',\n",
    "'2018-03-21,user4,19',\n",
    "'2018-03-22,user4,4',\n",
    "'2018-04-22,user4,8',\n",
    "'2018-05-03,user4,9',\n",
    "'2018-05-11,user4,11',\n",
    "]\n",
    "views = 0\n",
    "user_list = []\n",
    "for i in stream:\n",
    "    a = i.split (',')\n",
    "    views += int(a[2])\n",
    "    if a[1] not in user_list:\n",
    "        user_list.append(a[1])\n",
    "print('Среднее количество просмотров на уникального пользователя:', views/ len(user_list))\n"
   ]
  },
  {
   "cell_type": "markdown",
   "metadata": {},
   "source": [
    "## Задание 6 (необязательное)\n",
    "\n",
    "Необходимо у пользователя запрашивать набор чисел разделенных пробелом. В результате в отсортированном порядке должны выводиться числа, которые повторяются в вводе более одного раза.\n",
    "\n",
    "    Примеры работы программы:\n",
    "\n",
    "    Введите числа:\n",
    "    4 8 0 3 4 2 0 3\n",
    "\n",
    "    Результат:\n",
    "    0 3 4\n",
    "\n",
    "    Введите числа:\n",
    "    1 1 2 2 3 3\n",
    "\n",
    "    Результат:\n",
    "    1 2 3\n",
    "\n",
    "    Введите числа:\n",
    "    10 15 15 103 200 200 200 1 1 1 1 1 2 2 2\n",
    "\n",
    "    Результат:\n",
    "    1 2 15 200"
   ]
  },
  {
   "cell_type": "code",
   "execution_count": 307,
   "metadata": {},
   "outputs": [
    {
     "name": "stdout",
     "output_type": "stream",
     "text": [
      "Введите набор чисел, разделенных пробелом10 15 15 103 200 200 200 1 1 1 1 1 2 2 2\n",
      "Результат: 1, 15, 2, 200\n"
     ]
    }
   ],
   "source": [
    "list_ = []\n",
    "x = input('Введите набор чисел, разделенных пробелом')\n",
    "queries = x.split (' ')\n",
    "for element in queries:\n",
    "    a = queries.count(element)\n",
    "    if a > 1:\n",
    "        if element not in list_:\n",
    "            list_.append(element)\n",
    "int_list = [int(i) for i in list_]\n",
    "print('Результат:', ', '.join (sorted(list_)))"
   ]
  }
 ],
 "metadata": {
  "kernelspec": {
   "display_name": "Python 3",
   "language": "python",
   "name": "python3"
  }
 },
 "nbformat": 4,
 "nbformat_minor": 4
}
