{
 "cells": [
  {
   "cell_type": "markdown",
   "metadata": {},
   "source": [
    "## Задание 1\n",
    "Печатные газеты использовали свой формат дат для каждого выпуска. Для каждой газеты из списка напишите формат указанной даты для перевода в объект datetime:\n",
    "\n",
    "     The Moscow Times - Wednesday, October 2, 2002\n",
    "     The Guardian - Friday, 11.10.13\n",
    "     Daily News - Thursday, 18 August 1977\n"
   ]
  },
  {
   "cell_type": "code",
   "execution_count": 13,
   "metadata": {},
   "outputs": [
    {
     "name": "stdout",
     "output_type": "stream",
     "text": [
      "The_Moscow_Times -  2002-10-02 00:00:00 \n",
      "The_Guardian -  2013-10-11 00:00:00 \n",
      "Daily_News -  1977-08-18 00:00:00 \n",
      "\n"
     ]
    }
   ],
   "source": [
    "The_Moscow_Times = 'Wednesday, October 2, 2002'\n",
    "The_Guardian = 'Friday, 11.10.13'\n",
    "Daily_News = 'Thursday, 18 August 1977'\n",
    "\n",
    "from datetime import datetime\n",
    "The_Moscow_Times_date = datetime.strptime(The_Moscow_Times, '%A, %B %d, %Y')\n",
    "The_Guardian_date = datetime.strptime(The_Guardian, '%A, %d.%m.%y')\n",
    "Daily_News_date = datetime.strptime(Daily_News, '%A, %d %B %Y')\n",
    "\n",
    "print('The_Moscow_Times - ', The_Moscow_Times_date, '\\n'\n",
    "     'The_Guardian - ', The_Guardian_date, '\\n'\n",
    "     'Daily_News - ', Daily_News_date, '\\n')"
   ]
  },
  {
   "cell_type": "markdown",
   "metadata": {},
   "source": [
    "## Задание 2\n",
    "Дан поток дат в формате YYYY-MM-DD, в которых встречаются некорректные значения:\n",
    "stream = [‘2018-04-02’, ‘2018-02-29’, ‘2018-19-02’]\n",
    "\n",
    "Напишите функцию, которая проверяет эти даты на корректность. Т. е. для каждой даты возвращает True (дата корректна) или False (некорректная дата).\n"
   ]
  },
  {
   "cell_type": "code",
   "execution_count": 15,
   "metadata": {},
   "outputs": [
    {
     "name": "stdout",
     "output_type": "stream",
     "text": [
      "True\n",
      "False\n",
      "False\n"
     ]
    }
   ],
   "source": [
    "stream = ['2018-04-02', '2018-02-29', '2018-19-02']\n",
    "from datetime import datetime \n",
    "for el in stream:\n",
    "    try:\n",
    "        datetime.strptime(el, '%Y-%m-%d')\n",
    "        print('True')\n",
    "    except:\n",
    "        print('False')\n",
    "    "
   ]
  },
  {
   "cell_type": "markdown",
   "metadata": {},
   "source": [
    "## Задание 3\n",
    "Напишите функцию date_range, которая возвращает список дат за период от start_date до end_date. Даты должны вводиться в формате YYYY-MM-DD. В случае неверного формата или при start_date > end_date должен возвращаться пустой список."
   ]
  },
  {
   "cell_type": "code",
   "execution_count": 63,
   "metadata": {},
   "outputs": [
    {
     "name": "stdout",
     "output_type": "stream",
     "text": [
      "Введите начальную дату в формате YYYY-MM-DD: 2020-01-01\n",
      "Введите конечную дату в формате YYYY-MM-DD: 2020-01-31\n",
      "2020-01-01 00:00:00\n",
      "2020-01-02 00:00:00\n",
      "2020-01-03 00:00:00\n",
      "2020-01-04 00:00:00\n",
      "2020-01-05 00:00:00\n",
      "2020-01-06 00:00:00\n",
      "2020-01-07 00:00:00\n",
      "2020-01-08 00:00:00\n",
      "2020-01-09 00:00:00\n",
      "2020-01-10 00:00:00\n",
      "2020-01-11 00:00:00\n",
      "2020-01-12 00:00:00\n",
      "2020-01-13 00:00:00\n",
      "2020-01-14 00:00:00\n",
      "2020-01-15 00:00:00\n",
      "2020-01-16 00:00:00\n",
      "2020-01-17 00:00:00\n",
      "2020-01-18 00:00:00\n",
      "2020-01-19 00:00:00\n",
      "2020-01-20 00:00:00\n",
      "2020-01-21 00:00:00\n",
      "2020-01-22 00:00:00\n",
      "2020-01-23 00:00:00\n",
      "2020-01-24 00:00:00\n",
      "2020-01-25 00:00:00\n",
      "2020-01-26 00:00:00\n",
      "2020-01-27 00:00:00\n",
      "2020-01-28 00:00:00\n",
      "2020-01-29 00:00:00\n",
      "2020-01-30 00:00:00\n",
      "2020-01-31 00:00:00\n"
     ]
    }
   ],
   "source": [
    "start = input('Введите начальную дату в формате YYYY-MM-DD: ')\n",
    "end = input('Введите конечную дату в формате YYYY-MM-DD: ')\n",
    "\n",
    "from datetime import timedelta, datetime\n",
    "def date_range(start, end):\n",
    "    try:\n",
    "        start_date = datetime.strptime(start, '%Y-%m-%d')\n",
    "        end_date = datetime.strptime(end, '%Y-%m-%d')\n",
    "        current_dt = start_date\n",
    "        if start < end:\n",
    "            while current_dt <= end_date:\n",
    "                print(current_dt)\n",
    "                current_dt += timedelta(days = 1)\n",
    "        else: \n",
    "            print('')\n",
    "    except:\n",
    "        print('')\n",
    "date_range(start, end)\n"
   ]
  },
  {
   "cell_type": "markdown",
   "metadata": {},
   "source": [
    "## Задание 4 (бонусное)\n",
    "Ваш коллега прислал код функции:\n",
    "\n",
    "DEFAULT_USER_COUNT = 3\n",
    "\n",
    "def delete_and_return_last_user(region, default_list=[‘A100’, ‘A101’, ‘A102’]):\n",
    "\"\"“\n",
    "Удаляет из списка default_list последнего пользователя\n",
    "и возвращает ID нового последнего пользователя.\n",
    "”\"\"\n",
    "element_to_delete = default_list[-1]\n",
    "default_list.remove(element_to_delete)\n",
    "\n",
    "1\n",
    "return default_list[DEFAULT_USER_COUNT-2]\n",
    "\n",
    "При однократном вызове этой функции все работает корректно:\n",
    "delete_and_return_last_user(1)\n",
    "‘A101’\n",
    "\n",
    "Однако, при повторном вызове получается ошибка IndexError: list index out of range.\n",
    "\n",
    "Задание:\n",
    "\n",
    "    Что значит ошибка list index out of range?\n",
    "    Почему при первом запуске функция работает корректно, а при втором - нет?\n",
    "\n",
    "Важно! замечание к заданию.\n",
    "\n",
    "**** Для зачета достаточно сделать три задания! (четвертое бонусное)****\n",
    "\n",
    "При копировании с сайта нетологии Jupyter ноутбук изменяет кавычки ’ на `. Прошу учесть данный факт и обращать внимание.\n",
    "Достаточно просто заменить кавычки."
   ]
  },
  {
   "cell_type": "code",
   "execution_count": null,
   "metadata": {},
   "outputs": [],
   "source": []
  }
 ],
 "metadata": {
  "kernelspec": {
   "display_name": "Python 3",
   "language": "python",
   "name": "python3"
  },
  "language_info": {
   "codemirror_mode": {
    "name": "ipython",
    "version": 3
   },
   "file_extension": ".py",
   "mimetype": "text/x-python",
   "name": "python",
   "nbconvert_exporter": "python",
   "pygments_lexer": "ipython3",
   "version": "3.8.5"
  }
 },
 "nbformat": 4,
 "nbformat_minor": 4
}
