{
 "cells": [
  {
   "cell_type": "markdown",
   "metadata": {},
   "source": [
    "## Задание 1\n",
    "\n",
    "* Даны 2 переменных, в которых хранятся строки произвольной длины: phrase_1 и phrase_2.\n",
    "* Напишите код, который проверяет какая из этих строк длиннее.   \n",
    "    "
   ]
  },
  {
   "cell_type": "code",
   "execution_count": 1,
   "metadata": {},
   "outputs": [
    {
     "name": "stdout",
     "output_type": "stream",
     "text": [
      "Фразы равной длины\n"
     ]
    }
   ],
   "source": [
    "phrase_1 = '640Кб должно хватить для любых задач. Билл Гейтс (по легенде)'\n",
    "phrase_2 = '640Кб должно хватить для любых задач. Билл Гейтс (по легенде)'\n",
    "\n",
    "if len(phrase_1) > len(phrase_2): \n",
    "    print('Фраза 1 длиннее фразы 2')\n",
    "elif  len(phrase_1) < len(phrase_2): \n",
    "    print('Фраза 2 длиннее фразы 1')\n",
    "else: \n",
    "    print('Фразы равной длины')"
   ]
  },
  {
   "cell_type": "markdown",
   "metadata": {},
   "source": [
    "## Задание 2\n",
    " Дана переменная, в которой хранится четырехзначное число (год). \n",
    " Необходимо написать программу, которая выведет, является ли данный год високосным или обычным."
   ]
  },
  {
   "cell_type": "code",
   "execution_count": 2,
   "metadata": {},
   "outputs": [
    {
     "name": "stdout",
     "output_type": "stream",
     "text": [
      "Высокосный год\n"
     ]
    }
   ],
   "source": [
    "year = 2020\n",
    "if year%4==0:\n",
    "        print('Высокосный год')\n",
    "else:\n",
    "    print('Обычный год')"
   ]
  },
  {
   "cell_type": "markdown",
   "metadata": {},
   "source": [
    "## Задание 3\n",
    "Необходимо написать программу, которая будет запрашивать у пользователя месяц и дату рождения и выводить соответствующий знак зодиака."
   ]
  },
  {
   "cell_type": "code",
   "execution_count": 3,
   "metadata": {
    "scrolled": true
   },
   "outputs": [
    {
     "name": "stdout",
     "output_type": "stream",
     "text": [
      "Введите дату рождения числом - 3\n",
      "Введите месяц рождения числом - 1\n",
      "Capricorn\n"
     ]
    }
   ],
   "source": [
    "day = int(input('Введите дату рождения числом - '))\n",
    "month = int(input('Введите месяц рождения числом - '))\n",
    "if (month == 1 and day<21) or (month == 12 and day>22):\n",
    "    print ('Capricorn')\n",
    "elif (month == 1 and day>=21) or (month == 2 and day<20):\n",
    "    print ('Aquarius') \n",
    "elif (month == 2 and day>=20) or (month == 3 and day<21):\n",
    "    print ('Pisces')   \n",
    "elif (month == 3 and day>=21) or (month == 4 and day<21):\n",
    "    print ('Aries')  \n",
    "elif (month == 4 and day>=21) or (month == 5 and day<22):\n",
    "    print ('Taurus')  \n",
    "elif (month == 5 and day>=22) or (month == 6 and day<21):\n",
    "    print ('Gemini') \n",
    "elif (month == 6 and day>=22) or (month == 7 and day<23):\n",
    "    print ('Cancer')\n",
    "elif (month == 7 and day>=23) or (month == 8 and day<22):\n",
    "    print ('Leo')\n",
    "elif (month == 8 and day>=23) or (month == 9 and day<23):\n",
    "    print ('Virgo')\n",
    "elif (month == 9 and day>=23) or (month == 10 and day<23):\n",
    "    print ('Libra')\n",
    "elif (month == 10 and day>=23) or (month == 11 and day<23):\n",
    "    print ('Scorpio')\n",
    "else:\n",
    "    print ('Sagittarius')\n"
   ]
  },
  {
   "cell_type": "markdown",
   "metadata": {},
   "source": [
    "## Задание 4\n",
    "Вам нужно написать программу для подбора упаковок по размерам товара. Размеры (ширина, длина, высота) хранятся в переменных (в сантиметрах):\n",
    "\n",
    "Используйте следующие правила:\n",
    "*    если каждое из трех измерений менее 15 сантиметров, то выведите на экран \"Коробка №1\";\n",
    "*    если хотя бы одно из измерений больше 15 сантиметров, но менее 50 сантиметров, то выводите \"Коробка №2\";\n",
    "*    если длина товара больше 2 метров, то выводите \"Упаковка для лыж\";\n",
    "*    во всех остальных случаях выводите \"Стандартная коробка №3\".\n"
   ]
  },
  {
   "cell_type": "code",
   "execution_count": 9,
   "metadata": {},
   "outputs": [
    {
     "name": "stdout",
     "output_type": "stream",
     "text": [
      "width, cm = 15\n",
      "length, cm = 210\n",
      "height, cm = 12\n",
      "Packing for a ski\n"
     ]
    }
   ],
   "source": [
    "width = int(input('width, cm = '))\n",
    "length = int(input('length, cm = '))\n",
    "height = int(input('height, cm = '))\n",
    "if width < 15 and length < 15 and height < 15:\n",
    "    print ('Box №1')\n",
    "elif length > 200:\n",
    "    print ('Packing for a ski')    \n",
    "elif (width > 15 and width < 50) or  (length > 15 and length < 50) or (height > 15 and height < 50):\n",
    "    print ('Box №2')\n",
    "else:\n",
    "    print('Standart box №3')"
   ]
  },
  {
   "cell_type": "markdown",
   "metadata": {},
   "source": [
    "## Задание 5 (необязательное)\n",
    "Дана переменная, в которой хранится шестизначное число (номер проездного билета). Напишите программу, которая будет определять, является ли данный билет \"счастливым\". Билет считается счастливым, если сумма первых трех цифр совпадает с суммой последних трех цифр номера.\n"
   ]
  },
  {
   "cell_type": "code",
   "execution_count": 10,
   "metadata": {},
   "outputs": [
    {
     "name": "stdout",
     "output_type": "stream",
     "text": [
      "Lucky ticket\n"
     ]
    }
   ],
   "source": [
    "number = '123321'\n",
    "sum_of_first_3_number = int(number[0]) + int(number[1]) + int(number[2])\n",
    "sum_of_last_3_number = int(number[3]) + int(number[4]) + int(number[5])\n",
    "if sum_of_first_3_number == sum_of_last_3_number:\n",
    "    print ('Lucky ticket')\n",
    "else:\n",
    "    print ('Unlucky ticket')"
   ]
  },
  {
   "cell_type": "markdown",
   "metadata": {},
   "source": [
    "## Задание 6 (необязательное)\n",
    "Напишите программу, которая сможет вычислять площади трех фигур (круг, треугольник и прямоугольник). Тип фигуры запрашиваем через пользовательский ввод, после чего делаем запрос характеристик фигуры:\n",
    "\n",
    "*    если пользователь выбрал круг, запрашиваем его радиус,\n",
    "*    если треугольник – длины трех его сторон;\n",
    "*    если прямоугольник – длины двух его сторон.\n"
   ]
  },
  {
   "cell_type": "code",
   "execution_count": 9,
   "metadata": {},
   "outputs": [
    {
     "name": "stdout",
     "output_type": "stream",
     "text": [
      "Insert type of figure - triangle\n",
      "Insert lenght 1 side - 2\n",
      "Insert lenght 2 side - 2\n",
      "Insert lenght 3 side - 3\n",
      "Area of triangle =  1.984313483298443\n"
     ]
    }
   ],
   "source": [
    "figure = input('Insert type of figure - ')\n",
    "if figure == 'circle':\n",
    "    radius = int(input('Insert radius - '))\n",
    "    print('Area of circle = ', radius**2*3.14159)\n",
    "elif figure == 'triangle':\n",
    "    lenght_1 = int(input('Insert lenght 1 side - '))\n",
    "    lenght_2 = int(input ('Insert lenght 2 side - '))\n",
    "    lenght_3 = int(input('Insert lenght 3 side - '))\n",
    "    p = (lenght_1 + lenght_2 + lenght_3)/2\n",
    "    area = (p*(p-lenght_1)*(p-lenght_2)*(p-lenght_3))**0.5\n",
    "    print ('Area of triangle = ', area)\n",
    "elif figure == 'rectangle':\n",
    "    lenght_1 = int(input ('Insert lenght 1 side - ')) \n",
    "    lenght_2 = int(input ('Insert lenght 2 side - '))\n",
    "    print ('Area of rectangle = ', lenght_1*lenght_2)\n",
    "else:\n",
    "    print ('another figure')"
   ]
  },
  {
   "cell_type": "code",
   "execution_count": null,
   "metadata": {},
   "outputs": [],
   "source": []
  }
 ],
 "metadata": {
  "kernelspec": {
   "display_name": "Python 3",
   "language": "python",
   "name": "python3"
  },
  "language_info": {
   "codemirror_mode": {
    "name": "ipython",
    "version": 3
   },
   "file_extension": ".py",
   "mimetype": "text/x-python",
   "name": "python",
   "nbconvert_exporter": "python",
   "pygments_lexer": "ipython3",
   "version": "3.8.5"
  }
 },
 "nbformat": 4,
 "nbformat_minor": 4
}
