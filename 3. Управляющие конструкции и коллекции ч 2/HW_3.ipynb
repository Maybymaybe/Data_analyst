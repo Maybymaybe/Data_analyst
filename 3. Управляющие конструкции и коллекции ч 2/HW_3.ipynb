{
 "cells": [
  {
   "cell_type": "markdown",
   "metadata": {},
   "source": [
    "## Домашнее задание к лекции \"Введение в типы данных и циклы. Часть 2\""
   ]
  },
  {
   "cell_type": "markdown",
   "metadata": {},
   "source": [
    "## Задание 1\n",
    "\n",
    "Дана переменная, в которой хранится словарь, содержащий гео-метки для каждого пользователя (пример структуры данных приведен ниже). Вам необходимо написать программу, которая выведет на экран множество уникальных гео-меток всех пользователей.\n",
    "\n",
    "Пример работы программы:\n",
    "\n",
    "    ids = {'user1': [213, 213, 213, 15, 213], \n",
    "       'user2': [54, 54, 119, 119, 119], \n",
    "       'user3': [213, 98, 98, 35]}\n",
    "\n",
    "    Результат: {98, 35, 15, 213, 54, 119}"
   ]
  },
  {
   "cell_type": "code",
   "execution_count": 18,
   "metadata": {},
   "outputs": [
    {
     "data": {
      "text/plain": [
       "{15, 35, 54, 98, 119, 213}"
      ]
     },
     "execution_count": 18,
     "metadata": {},
     "output_type": "execute_result"
    }
   ],
   "source": [
    "ids = {'user1': [213, 213, 213, 15, 213], \n",
    "       'user2': [54, 54, 119, 119, 119], \n",
    "       'user3': [213, 98, 98, 35]}\n",
    "values = list(ids.values())\n",
    "set(sum(values, []))"
   ]
  },
  {
   "cell_type": "markdown",
   "metadata": {},
   "source": [
    "## Задание 2\n",
    "\n",
    "Дана переменная, в которой хранится список поисковых запросов пользователя (пример структуры данных приведен ниже). Вам необходимо написать программу, которая выведет на экран распределение количества слов в запросах в требуемом виде.\n",
    "\n",
    "Пример работы программы:\n",
    "\n",
    "    queries = [\n",
    "    'смотреть сериалы онлайн',\n",
    "    'новости спорта',\n",
    "    'афиша кино',\n",
    "    'курс доллара',\n",
    "    'сериалы этим летом',\n",
    "    'курс по питону',\n",
    "    'сериалы про спорт',\n",
    "    ]\n",
    "\n",
    "    Результат:\n",
    "\n",
    "Поисковых запросов, содержащих 2 слов(а): 42.86%\n",
    "Поисковых запросов, содержащих 3 слов(а): 57.14%\n",
    "\n"
   ]
  },
  {
   "cell_type": "code",
   "execution_count": 121,
   "metadata": {},
   "outputs": [
    {
     "name": "stdout",
     "output_type": "stream",
     "text": [
      "Поисковых запросов, содержащих 2 слов(а):  42.86 %\n",
      "Поисковых запросов, содержащих 3 слов(а):  57.14 %\n"
     ]
    }
   ],
   "source": [
    "queries = [\n",
    "'смотреть сериалы онлайн',\n",
    "'новости спорта',\n",
    "'афиша кино',\n",
    "'курс доллара',\n",
    "'сериалы этим летом',\n",
    "'курс по питону',\n",
    "'сериалы про спорт',\n",
    "]\n",
    "words_number = []\n",
    "for el in queries:\n",
    "    words_number.append(len(el.split()))\n",
    "unique = set(words_number)\n",
    "for i in unique:\n",
    "    count = words_number.count(i)\n",
    "    print('Поисковых запросов, содержащих', i, 'слов(а): ', round(count/len(words_number)*100,2), '%') "
   ]
  },
  {
   "cell_type": "markdown",
   "metadata": {},
   "source": [
    "## Задание 3\n",
    "\n",
    "Дана переменная, в которой хранится информация о затратах и доходе рекламных кампаний по различным источникам. Необходимо дополнить исходную структуру показателем ROI, который рассчитаем по формуле: (revenue / cost - 1) * 100\n",
    "\n",
    "Пример работы программы:\n",
    "\n",
    "    results = {\n",
    "    'vk': {'revenue': 103, 'cost': 98},\n",
    "    'yandex': {'revenue': 179, 'cost': 153},\n",
    "    'facebook': {'revenue': 103, 'cost': 110},\n",
    "    'adwords': {'revenue': 35, 'cost': 34},\n",
    "    'twitter': {'revenue': 11, 'cost': 24},\n",
    "    }\n",
    "\n",
    "    Результат:\n",
    "\n",
    "    {'adwords': {'cost': 34, 'revenue': 35, 'ROI': 2.94},\n",
    "     'facebook': {'cost': 110, 'revenue': 103, 'ROI': -6.36},\n",
    "     'twitter': {'cost': 24, 'revenue': 11, 'ROI': -54.17},\n",
    "     'vk': {'cost': 98, 'revenue': 103, 'ROI': 5.1},\n",
    "     'yandex': {'cost': 153, 'revenue': 179, 'ROI': 16.99}}"
   ]
  },
  {
   "cell_type": "code",
   "execution_count": 122,
   "metadata": {},
   "outputs": [
    {
     "name": "stdout",
     "output_type": "stream",
     "text": [
      "vk {'revenue': 11, 'cost': 24, 'ROI: ': -54.17}\n",
      "yandex {'revenue': 11, 'cost': 24, 'ROI: ': -54.17}\n",
      "facebook {'revenue': 11, 'cost': 24, 'ROI: ': -54.17}\n",
      "adwords {'revenue': 11, 'cost': 24, 'ROI: ': -54.17}\n",
      "twitter {'revenue': 11, 'cost': 24, 'ROI: ': -54.17}\n"
     ]
    }
   ],
   "source": [
    "results = {\n",
    "'vk': {'revenue': 103, 'cost': 98},\n",
    "'yandex': {'revenue': 179, 'cost': 153},\n",
    "'facebook': {'revenue': 103, 'cost': 110},\n",
    "'adwords': {'revenue': 35, 'cost': 34},\n",
    "'twitter': {'revenue': 11, 'cost': 24},\n",
    "}\n",
    "\n",
    "for campaign in results:\n",
    "    for for_ROI_data in results.values():\n",
    "        cost = list(for_ROI_data.values())[1]\n",
    "        revenue = list(for_ROI_data.values())[0]\n",
    "        for_ROI_data['ROI: '] = round((revenue / cost - 1) * 100, 2)\n",
    "    print(campaign, for_ROI_data)  \n"
   ]
  },
  {
   "cell_type": "markdown",
   "metadata": {},
   "source": [
    "## Задание 4\n",
    "\n",
    "Дана переменная, в которой хранится статистика рекламных каналов по объемам продаж (пример структуры данных приведен ниже). Напишите программу, которая возвращает название канала с максимальным объемом продаж.\n",
    "\n",
    "    Пример работы программы:\n",
    "\n",
    "    stats = {'facebook': 55, 'yandex': 115, 'vk': 120, 'google': 99, 'email': 42, 'ok': 98}\n",
    "\n",
    "    Результат: Максимальный объем продаж на рекламном канале: vk"
   ]
  },
  {
   "cell_type": "code",
   "execution_count": 123,
   "metadata": {},
   "outputs": [
    {
     "name": "stdout",
     "output_type": "stream",
     "text": [
      "Максимальный объем продаж на рекламном канале: vk\n"
     ]
    }
   ],
   "source": [
    "stats = {'facebook': 55, 'yandex': 115, 'vk': 120, 'google': 99, 'email': 42, 'ok': 98}\n",
    "max_value = (max(list(stats.values())))\n",
    "values = list(stats.values())\n",
    "keys = list(stats.keys())\n",
    "index = values.index(max_value)\n",
    "print('Максимальный объем продаж на рекламном канале:', keys[index])"
   ]
  },
  {
   "cell_type": "markdown",
   "metadata": {},
   "source": [
    "## Задание 5 (необязательно)\n",
    "\n",
    "Дан список произвольной длины. Необходимо написать код, который на основе исходного списка составит словарь такого уровня вложенности, какова длина исхондого списка.\n",
    "\n",
    "    Примеры работы программы:\n",
    "\n",
    "    my_list = ['2018-01-01', 'yandex', 'cpc', 100]\n",
    "\n",
    "    Результат: {'2018-01-01': {'yandex': {'cpc': 100}}}\n",
    "\n",
    "    my_list = ['a', 'b', 'c', 'd', 'e', 'f']\n",
    "\n",
    "    Результат: {'a': {'b': {'c': {'d': {'e': 'f'}}}}}"
   ]
  },
  {
   "cell_type": "code",
   "execution_count": 160,
   "metadata": {},
   "outputs": [
    {
     "data": {
      "text/plain": [
       "{'2018-01-01': {'yandex': {'cpc': 100}}}"
      ]
     },
     "execution_count": 160,
     "metadata": {},
     "output_type": "execute_result"
    }
   ],
   "source": [
    "my_list = ['2018-01-01', 'yandex', 'cpc', 100]\n",
    "new_list = {my_list[0]: {my_list[1]: {my_list[2]: my_list[3]}}}\n",
    "new_list #не получается перенести это в цикл, чтобы не зависеть от количества элементов"
   ]
  },
  {
   "cell_type": "code",
   "execution_count": 183,
   "metadata": {},
   "outputs": [
    {
     "ename": "IndexError",
     "evalue": "list index out of range",
     "output_type": "error",
     "traceback": [
      "\u001b[1;31m---------------------------------------------------------------------------\u001b[0m",
      "\u001b[1;31mIndexError\u001b[0m                                Traceback (most recent call last)",
      "\u001b[1;32m<ipython-input-183-c3a582ba40de>\u001b[0m in \u001b[0;36m<module>\u001b[1;34m\u001b[0m\n\u001b[0;32m      2\u001b[0m \u001b[0mindex\u001b[0m \u001b[1;33m=\u001b[0m \u001b[1;36m0\u001b[0m\u001b[1;33m\u001b[0m\u001b[1;33m\u001b[0m\u001b[0m\n\u001b[0;32m      3\u001b[0m \u001b[1;32mfor\u001b[0m \u001b[0mel\u001b[0m \u001b[1;32min\u001b[0m \u001b[0mmy_list\u001b[0m\u001b[1;33m:\u001b[0m\u001b[1;33m\u001b[0m\u001b[1;33m\u001b[0m\u001b[0m\n\u001b[1;32m----> 4\u001b[1;33m     \u001b[0mnew_list\u001b[0m \u001b[1;33m=\u001b[0m \u001b[1;33m(\u001b[0m\u001b[1;33m{\u001b[0m\u001b[0mmy_list\u001b[0m\u001b[1;33m[\u001b[0m\u001b[0mindex\u001b[0m\u001b[1;33m]\u001b[0m\u001b[1;33m:\u001b[0m \u001b[1;33m{\u001b[0m\u001b[0mmy_list\u001b[0m\u001b[1;33m[\u001b[0m\u001b[0mindex\u001b[0m\u001b[1;33m+\u001b[0m\u001b[1;36m1\u001b[0m\u001b[1;33m]\u001b[0m\u001b[1;33m}\u001b[0m\u001b[1;33m}\u001b[0m\u001b[1;33m)\u001b[0m\u001b[1;31m#здесь append не работает\u001b[0m\u001b[1;33m\u001b[0m\u001b[1;33m\u001b[0m\u001b[0m\n\u001b[0m\u001b[0;32m      5\u001b[0m     \u001b[0mindex\u001b[0m \u001b[1;33m+=\u001b[0m \u001b[1;36m1\u001b[0m \u001b[1;31m# непонятно как продолжить добавлять вложенность дальше\u001b[0m\u001b[1;33m\u001b[0m\u001b[1;33m\u001b[0m\u001b[0m\n\u001b[0;32m      6\u001b[0m \u001b[0mnew_list\u001b[0m\u001b[1;33m\u001b[0m\u001b[1;33m\u001b[0m\u001b[0m\n",
      "\u001b[1;31mIndexError\u001b[0m: list index out of range"
     ]
    }
   ],
   "source": [
    "my_list = ['a', 'b', 'c', 'd', 'e', 'f']\n",
    "index = 0\n",
    "for el in my_list:    \n",
    "    new_list = ({my_list[index]: {my_list[index+1]}})#здесь append не работает\n",
    "    index += 1 # непонятно как продолжить добавлять вложенность дальше по следующему индексу\n",
    "new_list\n"
   ]
  },
  {
   "cell_type": "markdown",
   "metadata": {},
   "source": [
    "## Задание 6 (необязательно)\n",
    "\n",
    "Дана книга рецептов с информацией о том, сколько ингредиентов нужно для приготовления блюда в расчете на одну порцию (пример данных представлен ниже).\n",
    "Напишите программу, которая будет запрашивать у пользователя количество порций для приготовления этих блюд и отображать информацию о суммарном количестве требуемых ингредиентов в указанном виде.\n",
    "Внимание! Одинаковые ингридиенты с разными размерностями нужно считать раздельно!\n",
    "Пример работы программы:\n",
    "\n",
    "    cook_book = {\n",
    "      'салат': [\n",
    "     {'ingridient_name': 'сыр', 'quantity': 50, 'measure': 'гр'},\n",
    "     {'ingridient_name': 'томаты', 'quantity': 2, 'measure': 'шт'},\n",
    "     {'ingridient_name': 'огурцы', 'quantity': 20, 'measure': 'гр'},\n",
    "     {'ingridient_name': 'маслины', 'quantity': 10, 'measure': 'гр'},\n",
    "     {'ingridient_name': 'оливковое масло', 'quantity': 20, 'measure': 'мл'},\n",
    "     {'ingridient_name': 'салат', 'quantity': 10, 'measure': 'гр'},\n",
    "     {'ingridient_name': 'перец', 'quantity': 20, 'measure': 'гр'}\n",
    "        ],\n",
    "      'пицца': [\n",
    "     {'ingridient_name': 'сыр', 'quantity': 20, 'measure': 'гр'},\n",
    "     {'ingridient_name': 'колбаса', 'quantity': 30, 'measure': 'гр'},\n",
    "     {'ingridient_name': 'бекон', 'quantity': 30, 'measure': 'гр'},\n",
    "     {'ingridient_name': 'оливки', 'quantity': 10, 'measure': 'гр'},\n",
    "     {'ingridient_name': 'томаты', 'quantity': 20, 'measure': 'гр'},\n",
    "     {'ingridient_name': 'тесто', 'quantity': 100, 'measure': 'гр'},   \n",
    "        ],\n",
    "      'лимонад': [\n",
    "     {'ingridient_name': 'лимон', 'quantity': 1, 'measure': 'шт'},\n",
    "     {'ingridient_name': 'вода', 'quantity': 200, 'measure': 'мл'},\n",
    "     {'ingridient_name': 'сахар', 'quantity': 10, 'measure': 'гр'},\n",
    "     {'ingridient_name': 'лайм', 'quantity': 20, 'measure': 'гр'},    \n",
    "        ]\n",
    "    }\n",
    "\n",
    "    Введите количество порций:  \n",
    "    3\n",
    "\n",
    "    Результат:\n",
    "\n",
    "    Сыр: 210 гр  \n",
    "    Томаты: 6 шт  \n",
    "    Огурцы: 60 гр  \n",
    "    Маслины: 30 гр  \n",
    "    Оливковое масло: 60 мл  \n",
    "    Салат: 30 гр  \n",
    "    Перец: 60 гр  \n",
    "    Колбаса: 90 гр  \n",
    "    Бекон: 90 гр  \n",
    "    Оливки: 30 гр  \n",
    "    Томаты: 60 гр  \n",
    "    Тесто: 300 гр  \n",
    "    Лимон: 3 шт  \n",
    "    Вода: 600 мл  \n",
    "    Сахар: 30 гр  \n",
    "    Лайм: 60 гр"
   ]
  },
  {
   "cell_type": "code",
   "execution_count": 127,
   "metadata": {},
   "outputs": [
    {
     "name": "stdout",
     "output_type": "stream",
     "text": [
      "Введите количество порций:2\n"
     ]
    },
    {
     "data": {
      "text/plain": [
       "[['сыр', 100, 'гр'],\n",
       " ['томаты', 4, 'шт'],\n",
       " ['огурцы', 40, 'гр'],\n",
       " ['маслины', 20, 'гр'],\n",
       " ['оливковое масло', 40, 'мл'],\n",
       " ['салат', 20, 'гр'],\n",
       " ['перец', 40, 'гр'],\n",
       " ['сыр', 40, 'гр'],\n",
       " ['колбаса', 60, 'гр'],\n",
       " ['бекон', 60, 'гр'],\n",
       " ['оливки', 20, 'гр'],\n",
       " ['томаты', 40, 'гр'],\n",
       " ['тесто', 200, 'гр'],\n",
       " ['лимон', 2, 'шт'],\n",
       " ['вода', 400, 'мл'],\n",
       " ['сахар', 20, 'гр'],\n",
       " ['лайм', 40, 'гр']]"
      ]
     },
     "execution_count": 127,
     "metadata": {},
     "output_type": "execute_result"
    }
   ],
   "source": [
    "cook_book = {\n",
    "  'салат': [\n",
    " {'ingridient_name': 'сыр', 'quantity': 50, 'measure': 'гр'},\n",
    " {'ingridient_name': 'томаты', 'quantity': 2, 'measure': 'шт'},\n",
    " {'ingridient_name': 'огурцы', 'quantity': 20, 'measure': 'гр'},\n",
    " {'ingridient_name': 'маслины', 'quantity': 10, 'measure': 'гр'},\n",
    " {'ingridient_name': 'оливковое масло', 'quantity': 20, 'measure': 'мл'},\n",
    " {'ingridient_name': 'салат', 'quantity': 10, 'measure': 'гр'},\n",
    " {'ingridient_name': 'перец', 'quantity': 20, 'measure': 'гр'}\n",
    "    ],\n",
    "  'пицца': [\n",
    " {'ingridient_name': 'сыр', 'quantity': 20, 'measure': 'гр'},\n",
    " {'ingridient_name': 'колбаса', 'quantity': 30, 'measure': 'гр'},\n",
    " {'ingridient_name': 'бекон', 'quantity': 30, 'measure': 'гр'},\n",
    " {'ingridient_name': 'оливки', 'quantity': 10, 'measure': 'гр'},\n",
    " {'ingridient_name': 'томаты', 'quantity': 20, 'measure': 'гр'},\n",
    " {'ingridient_name': 'тесто', 'quantity': 100, 'measure': 'гр'},   \n",
    "    ],\n",
    "  'лимонад': [\n",
    " {'ingridient_name': 'лимон', 'quantity': 1, 'measure': 'шт'},\n",
    " {'ingridient_name': 'вода', 'quantity': 200, 'measure': 'мл'},\n",
    " {'ingridient_name': 'сахар', 'quantity': 10, 'measure': 'гр'},\n",
    " {'ingridient_name': 'лайм', 'quantity': 20, 'measure': 'гр'},    \n",
    "    ]\n",
    "}\n",
    "\n",
    "ingridient_list = []\n",
    "portion = int(input('Введите количество порций:'))\n",
    "for meal in cook_book.values():\n",
    "    for ingridient in meal:\n",
    "        ingridient['quantity'] *= portion\n",
    "        ingridient_list.append(list(ingridient.values()))\n",
    "ingridient_list  #дальше я не поняла как схлопнуть дубликаты, set не подходит, т.к. не получится просуммировать объемы, \n",
    "#в цикле непонятно какое применить условие для проверки повторяемости вхождения\n",
    "#в общем и тут тупик ¯\\_(ツ)_/¯\n",
    "    "
   ]
  }
 ],
 "metadata": {
  "kernelspec": {
   "display_name": "Python 3",
   "language": "python",
   "name": "python3"
  },
  "language_info": {
   "codemirror_mode": {
    "name": "ipython",
    "version": 3
   },
   "file_extension": ".py",
   "mimetype": "text/x-python",
   "name": "python",
   "nbconvert_exporter": "python",
   "pygments_lexer": "ipython3",
   "version": "3.8.5"
  }
 },
 "nbformat": 4,
 "nbformat_minor": 4
}
