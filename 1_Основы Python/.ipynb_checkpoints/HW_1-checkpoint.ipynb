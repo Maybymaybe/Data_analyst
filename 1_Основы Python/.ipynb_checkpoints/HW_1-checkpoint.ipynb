{
 "cells": [
  {
   "cell_type": "markdown",
   "metadata": {},
   "source": [
    "## Задание 1\n",
    "\n",
    "* Даны 2 переменных, в которых хранятся строки произвольной длины: phrase_1 и phrase_2.\n",
    "* Напишите код, который проверяет какая из этих строк длиннее.   \n",
    "    "
   ]
  },
  {
   "cell_type": "code",
   "execution_count": null,
   "metadata": {},
   "outputs": [],
   "source": [
    "phrase_1 = '640Кб должно хватить для любых задач. Билл Гейтс (по легенде)'\n",
    "phrase_2 = '640Кб должно хватить для любых задач. Билл Гейтс (по легенде)'\n",
    "\n",
    "if len(phrase_1) > len(phrase_2): \n",
    "    print('Фраза 1 длиннее фразы 2')\n",
    "elif  len(phrase_1) < len(phrase_2): \n",
    "    print('Фраза 2 длиннее фразы 1')\n",
    "else: \n",
    "    print('Фразы равной длины')"
   ]
  },
  {
   "cell_type": "markdown",
   "metadata": {},
   "source": [
    "## Задание 2\n",
    " Дана переменная, в которой хранится четырехзначное число (год). \n",
    " Необходимо написать программу, которая выведет, является ли данный год високосным или обычным."
   ]
  },
  {
   "cell_type": "code",
   "execution_count": 24,
   "metadata": {},
   "outputs": [
    {
     "name": "stdout",
     "output_type": "stream",
     "text": [
      "Высокосный год\n"
     ]
    }
   ],
   "source": [
    "year = 2020\n",
    "if year%4==0:\n",
    "        print('Высокосный год')\n",
    "else:\n",
    "    print('Обычный год')"
   ]
  },
  {
   "cell_type": "markdown",
   "metadata": {},
   "source": [
    "## Задание 3\n",
    "Необходимо написать программу, которая будет запрашивать у пользователя месяц и дату рождения и выводить соответствующий знак зодиака."
   ]
  },
  {
   "cell_type": "code",
   "execution_count": null,
   "metadata": {
    "scrolled": true
   },
   "outputs": [],
   "source": [
    "day = int(input('Введите дату рождения числом - '))\n",
    "month = int(input('Введите месяц рождения числом - '))\n",
    "if (month == 1 and day<21) or (month == 12 and day>22):\n",
    "    print ('Capricorn')\n",
    "elif (month == 1 and day>=21) or (month == 2 and day<20):\n",
    "    print ('Aquarius') \n",
    "elif (month == 2 and day>=20) or (month == 3 and day<21):\n",
    "    print ('Pisces')   \n",
    "elif (month == 3 and day>=21) or (month == 4 and day<21):\n",
    "    print ('Aries')  \n",
    "elif (month == 4 and day>=21) or (month == 5 and day<22):\n",
    "    print ('Taurus')  \n",
    "elif (month == 5 and day>=22) or (month == 6 and day<21):\n",
    "    print ('Gemini') \n",
    "elif (month == 6 and day>=22) or (month == 7 and day<23):\n",
    "    print ('Cancer')\n",
    "elif (month == 7 and day>=23) or (month == 8 and day<22):\n",
    "    print ('Leo')\n",
    "elif (month == 8 and day>=23) or (month == 9 and day<23):\n",
    "    print ('Virgo')\n",
    "elif (month == 9 and day>=23) or (month == 10 and day<23):\n",
    "    print ('Libra')\n",
    "elif (month == 10 and day>=23) or (month == 11 and day<23):\n",
    "    print ('Scorpio')\n",
    "else:\n",
    "    print ('Sagittarius')\n"
   ]
  },
  {
   "cell_type": "markdown",
   "metadata": {},
   "source": [
    "## Задание 4\n",
    "Вам нужно написать программу для подбора упаковок по размерам товара. Размеры (ширина, длина, высота) хранятся в переменных (в сантиметрах):\n",
    "\n",
    "Используйте следующие правила:\n",
    "*    если каждое из трех измерений менее 15 сантиметров, то выведите на экран \"Коробка №1\";\n",
    "*    если хотя бы одно из измерений больше 15 сантиметров, но менее 50 сантиметров, то выводите \"Коробка №2\";\n",
    "*    если длина товара больше 2 метров, то выводите \"Упаковка для лыж\";\n",
    "*    во всех остальных случаях выводите \"Стандартная коробка №3\".\n"
   ]
  },
  {
   "cell_type": "code",
   "execution_count": 2,
   "metadata": {},
   "outputs": [
    {
     "name": "stdout",
     "output_type": "stream",
     "text": [
      "width, cm = 5\n",
      "length, cm = 5\n",
      "height, cm = 5\n"
     ]
    },
    {
     "ename": "NameError",
     "evalue": "name 'lenght' is not defined",
     "output_type": "error",
     "traceback": [
      "\u001b[1;31m---------------------------------------------------------------------------\u001b[0m",
      "\u001b[1;31mNameError\u001b[0m                                 Traceback (most recent call last)",
      "\u001b[1;32m<ipython-input-2-e6ced336ad09>\u001b[0m in \u001b[0;36m<module>\u001b[1;34m\u001b[0m\n\u001b[0;32m      2\u001b[0m \u001b[0mlength\u001b[0m \u001b[1;33m=\u001b[0m \u001b[0mint\u001b[0m\u001b[1;33m(\u001b[0m\u001b[0minput\u001b[0m\u001b[1;33m(\u001b[0m\u001b[1;34m'length, cm = '\u001b[0m\u001b[1;33m)\u001b[0m\u001b[1;33m)\u001b[0m\u001b[1;33m\u001b[0m\u001b[1;33m\u001b[0m\u001b[0m\n\u001b[0;32m      3\u001b[0m \u001b[0mheight\u001b[0m \u001b[1;33m=\u001b[0m \u001b[0mint\u001b[0m\u001b[1;33m(\u001b[0m\u001b[0minput\u001b[0m\u001b[1;33m(\u001b[0m\u001b[1;34m'height, cm = '\u001b[0m\u001b[1;33m)\u001b[0m\u001b[1;33m)\u001b[0m\u001b[1;33m\u001b[0m\u001b[1;33m\u001b[0m\u001b[0m\n\u001b[1;32m----> 4\u001b[1;33m \u001b[1;32mif\u001b[0m \u001b[0mwidth\u001b[0m \u001b[1;33m<\u001b[0m \u001b[1;36m15\u001b[0m \u001b[1;32mand\u001b[0m \u001b[0mlenght\u001b[0m \u001b[1;33m<\u001b[0m \u001b[1;36m15\u001b[0m \u001b[1;32mand\u001b[0m \u001b[0mheight\u001b[0m \u001b[1;33m<\u001b[0m \u001b[1;36m15\u001b[0m\u001b[1;33m:\u001b[0m\u001b[1;33m\u001b[0m\u001b[1;33m\u001b[0m\u001b[0m\n\u001b[0m\u001b[0;32m      5\u001b[0m     \u001b[0mprint\u001b[0m \u001b[1;33m(\u001b[0m\u001b[1;34m'Box №1'\u001b[0m\u001b[1;33m)\u001b[0m\u001b[1;33m\u001b[0m\u001b[1;33m\u001b[0m\u001b[0m\n\u001b[0;32m      6\u001b[0m \u001b[1;32melif\u001b[0m \u001b[1;36m50\u001b[0m \u001b[1;33m<\u001b[0m \u001b[0mwidth\u001b[0m \u001b[1;33m>\u001b[0m \u001b[1;36m15\u001b[0m \u001b[1;32mor\u001b[0m  \u001b[1;36m50\u001b[0m \u001b[1;33m<\u001b[0m \u001b[0mlength\u001b[0m \u001b[1;33m>\u001b[0m \u001b[1;36m15\u001b[0m \u001b[1;32mor\u001b[0m \u001b[1;36m50\u001b[0m \u001b[1;33m<\u001b[0m \u001b[0mheight\u001b[0m \u001b[1;33m>\u001b[0m \u001b[1;36m15\u001b[0m\u001b[1;33m:\u001b[0m\u001b[1;33m\u001b[0m\u001b[1;33m\u001b[0m\u001b[0m\n",
      "\u001b[1;31mNameError\u001b[0m: name 'lenght' is not defined"
     ]
    }
   ],
   "source": [
    "width = int(input('width, cm = '))\n",
    "length = int(input('length, cm = '))\n",
    "height = int(input('height, cm = '))\n",
    "if width < 15 and length < 15 and height < 15:\n",
    "    print ('Box №1')\n",
    "elif 50 < width > 15 or  50 < length > 15 or 50 < height > 15:\n",
    "    print ('Box №2')\n",
    "elif length > 200:\n",
    "    print ('Packing for a ski')\n",
    "else:\n",
    "    print('Standart box №3')"
   ]
  },
  {
   "cell_type": "code",
   "execution_count": null,
   "metadata": {},
   "outputs": [],
   "source": []
  }
 ],
 "metadata": {
  "kernelspec": {
   "display_name": "Python 3",
   "language": "python",
   "name": "python3"
  },
  "language_info": {
   "codemirror_mode": {
    "name": "ipython",
    "version": 3
   },
   "file_extension": ".py",
   "mimetype": "text/x-python",
   "name": "python",
   "nbconvert_exporter": "python",
   "pygments_lexer": "ipython3",
   "version": "3.8.5"
  }
 },
 "nbformat": 4,
 "nbformat_minor": 4
}
